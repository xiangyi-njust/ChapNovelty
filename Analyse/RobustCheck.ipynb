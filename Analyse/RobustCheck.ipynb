{
 "cells": [
  {
   "cell_type": "code",
   "execution_count": 1,
   "metadata": {},
   "outputs": [],
   "source": [
    "import pandas as pd\n",
    "import os\n",
    "import numpy as np\n",
    "from lxml import etree\n",
    "from tqdm import tqdm\n",
    "import warnings\n",
    "import json\n",
    "warnings.filterwarnings(\"ignore\")"
   ]
  },
  {
   "cell_type": "markdown",
   "metadata": {},
   "source": [
    "##### 异常值的产生"
   ]
  },
  {
   "cell_type": "code",
   "execution_count": 2,
   "metadata": {},
   "outputs": [],
   "source": [
    "def get_outlier_data(root_path, filename):\n",
    "    df_raw = pd.read_csv(os.path.join(root_path, f\"{filename}.csv\"))\n",
    "    df_filtered = pd.read_csv(os.path.join(root_path, f\"{filename}_filtered.csv\"))\n",
    "\n",
    "    raw_dois = df_raw['Doi'].tolist()\n",
    "    filter_dois = df_filtered['Doi'].tolist()\n",
    "    outlier_dois = list(set(raw_dois) - set(filter_dois))\n",
    "\n",
    "    df_outlier = df_raw[df_raw['Doi'].isin(outlier_dois)]\n",
    "    df_outlier.to_csv(f\"robust/outliers/{filename}.csv\", index=False)"
   ]
  },
  {
   "cell_type": "code",
   "execution_count": null,
   "metadata": {},
   "outputs": [],
   "source": [
    "file_path = 'base_data/overview'\n",
    "\n",
    "get_outlier_data(file_path, 'uzzi_sec_merge_comb')\n",
    "get_outlier_data(file_path, 'uzzi_sec_merge_sec')\n",
    "get_outlier_data(file_path, 'uzzi')\n",
    "\n",
    "get_outlier_data(file_path, 'wang_sec')\n",
    "get_outlier_data(file_path, 'wang')"
   ]
  },
  {
   "cell_type": "code",
   "execution_count": 4,
   "metadata": {},
   "outputs": [],
   "source": [
    "# 看不同方法的异常值论文是否较为一致\n",
    "def check_common_outlier(file_1, file_2, save=False, save_path=None):\n",
    "    df_1 = pd.read_csv(os.path.join('robust/outliers', file_1))\n",
    "    df_2 = pd.read_csv(os.path.join('robust/outliers', file_2))\n",
    "\n",
    "    dois_1 = df_1['Doi'].tolist()\n",
    "    dois_2 = df_2['Doi'].tolist()\n",
    "\n",
    "    common_dois = set(dois_1).intersection(set(dois_2))\n",
    "    print(f\"file_1: {len(dois_1)} file_2: {len(dois_2)} common: {len(common_dois)}\")\n",
    "\n",
    "    if save:\n",
    "        df_common = df_1[df_1['Doi'].isin(common_dois)]\n",
    "        df_common.to_csv(os.path.join('robust/outliers/', save_path), index=False)"
   ]
  },
  {
   "cell_type": "code",
   "execution_count": null,
   "metadata": {},
   "outputs": [
    {
     "name": "stdout",
     "output_type": "stream",
     "text": [
      "file_1: 17127 file_2: 26331 common: 12503\n",
      "file_1: 17127 file_2: 29209 common: 729\n",
      "file_1: 26331 file_2: 29209 common: 1171\n"
     ]
    }
   ],
   "source": [
    "check_common_outlier('uzzi_sec_merge_comb.csv', 'uzzi_sec_merge_sec.csv', True, 'uzzi_sec_with_comb.csv')\n",
    "check_common_outlier('uzzi_sec_merge_comb.csv', 'wang_sec.csv', True, 'wang_with_uzzi_comb.csv')\n",
    "check_common_outlier('uzzi_sec_merge_sec.csv', 'wang_sec.csv', True, 'wang_with_uzzi_sec.csv')"
   ]
  },
  {
   "cell_type": "code",
   "execution_count": 12,
   "metadata": {},
   "outputs": [],
   "source": [
    "# 看异常值中有多少是在金标准中的，如果几乎没有，那可以确定没影响\n",
    "gold_data_path = 'gold_standard/F1000/Plos_recom_tags.xlsx'\n",
    "\n",
    "def check_common_with_gold(outlier_file):\n",
    "    df_outlier = pd.read_csv(os.path.join('robust/outliers', outlier_file))\n",
    "    outlier_dois = df_outlier['Doi'].tolist()\n",
    "\n",
    "    df_gold = pd.read_excel(gold_data_path)\n",
    "    gold_dois = df_gold['Doi'].tolist()\n",
    "\n",
    "    print(len(set(outlier_dois).intersection(gold_dois)))\n",
    "\n",
    "pos_recom_label = ['hypothesis', 'new finding', 'novel drug target', 'technical advance']\n",
    "def save_common_with_gold(outlier_file):\n",
    "    df_outlier = pd.read_csv(os.path.join('robust/outliers', outlier_file))\n",
    "    outlier_dois = df_outlier['Doi'].tolist()\n",
    "\n",
    "    novelty_type = []\n",
    "    df_gold = pd.read_excel(gold_data_path)\n",
    "    for row in df_gold.iterrows():\n",
    "        flag = False\n",
    "        for column in pos_recom_label:\n",
    "            if row[1][column] != 0:\n",
    "                novelty_type.append(1)\n",
    "                flag = True\n",
    "                break\n",
    "        if not flag:\n",
    "            novelty_type.append(0)\n",
    "    df_gold['Novelty_Type'] = novelty_type\n",
    "\n",
    "    simple_df_gold = df_gold[['Doi', 'Novelty_Type']]\n",
    "    merged_df = pd.merge(simple_df_gold, df_outlier, on='Doi', how='inner')\n",
    "\n",
    "    merged_df.to_csv(os.path.join('robust/outliers', 'outlier_in_gold_' + outlier_file), index=False)"
   ]
  },
  {
   "cell_type": "code",
   "execution_count": 13,
   "metadata": {},
   "outputs": [],
   "source": [
    "save_common_with_gold('wang_sec.csv')\n",
    "save_common_with_gold('uzzi_sec_merge_comb.csv')\n",
    "save_common_with_gold('uzzi_sec_merge_sec.csv')"
   ]
  },
  {
   "cell_type": "markdown",
   "metadata": {},
   "source": [
    "#### 分析带异常值的结果"
   ]
  },
  {
   "cell_type": "code",
   "execution_count": 2,
   "metadata": {},
   "outputs": [
    {
     "name": "stdout",
     "output_type": "stream",
     "text": [
      "(5082, 11)\n",
      "4662\n",
      "420\n"
     ]
    }
   ],
   "source": [
    "df_all = pd.read_excel('gold_standard/F1000/Plos_recom_tags.xlsx')\n",
    "print(df_all.shape)\n",
    "pos_plos_dois = []\n",
    "pos_recom_label = ['hypothesis', 'new finding', 'novel drug target', 'technical advance']\n",
    "\n",
    "for row in df_all.iterrows():\n",
    "    for column in pos_recom_label:\n",
    "        if row[1][column] != 0:\n",
    "            pos_plos_dois.append(row[1]['Doi'])\n",
    "            break\n",
    "\n",
    "dois = df_all['Doi'].tolist()\n",
    "years = df_all['Year'].tolist()\n",
    "doi_to_year = {dois[i]:years[i] for i in range(len(dois))}\n",
    "neg_plos_dois = [x for x in dois if x not in pos_plos_dois]\n",
    "\n",
    "print(len(pos_plos_dois))\n",
    "print(len(neg_plos_dois))"
   ]
  },
  {
   "cell_type": "code",
   "execution_count": 3,
   "metadata": {},
   "outputs": [],
   "source": [
    "def generate_balanced_file(path, saved_path):\n",
    "    df = pd.read_csv(path)\n",
    "    df_pos = df[df['Doi'].isin(pos_plos_dois)]\n",
    "    df_neg = df[df['Doi'].isin(neg_plos_dois)]\n",
    "    pos_grouped = df_pos.groupby('Year')\n",
    "    neg_grouped = df_neg.groupby('Year')\n",
    "\n",
    "    sampled_pos = pd.DataFrame()\n",
    "    for year, neg_year_grouped in neg_grouped:\n",
    "        sample_size = len(neg_year_grouped)\n",
    "\n",
    "        pos_year_group = pos_grouped.get_group(year)\n",
    "        sampled_pos_year = pos_year_group.sample(n=sample_size, random_state=2024)\n",
    "\n",
    "        sampled_pos = pd.concat([sampled_pos, sampled_pos_year])\n",
    "\n",
    "    sampled_pos = sampled_pos.reset_index(drop=True)\n",
    "    df_pos = sampled_pos\n",
    "\n",
    "    df_pos['label'] = [1 for i in range(len(df_pos))]\n",
    "    df_neg['label'] = [0 for i in range(len(df_neg))]\n",
    "\n",
    "    df = pd.concat([df_pos, df_neg], axis=0, ignore_index=True)\n",
    "    df.to_excel(saved_path, index=False)\n",
    "\n",
    "def generate_unbalanced_file(path, saved_path):\n",
    "    df = pd.read_csv(path)\n",
    "    df_pos = df[df['Doi'].isin(pos_plos_dois)]\n",
    "    df_neg = df[df['Doi'].isin(neg_plos_dois)]\n",
    "\n",
    "    df_pos['label'] = [1 for i in range(len(df_pos))]\n",
    "    df_neg['label'] = [0 for i in range(len(df_neg))]\n",
    "\n",
    "    df = pd.concat([df_pos, df_neg], axis=0, ignore_index=True)\n",
    "    df.to_excel(saved_path, index=False)"
   ]
  },
  {
   "cell_type": "code",
   "execution_count": 4,
   "metadata": {},
   "outputs": [],
   "source": [
    "root_path = 'base_data/overview'\n",
    "saved_path = 'robust/log-just-outlier'\n",
    "\n",
    "generate_balanced_file(os.path.join(root_path, 'uzzi_sec_merge_comb.csv'),\n",
    "                       os.path.join(saved_path, 'uzzi_sec_merge_comb_balanced.xlsx'))\n",
    "\n",
    "generate_balanced_file(os.path.join(root_path, 'uzzi_sec_merge_sec.csv'),\n",
    "                       os.path.join(saved_path, 'uzzi_sec_merge_sec_balanced.xlsx'))\n",
    "\n",
    "generate_balanced_file(os.path.join(root_path, 'wang_sec.csv'),\n",
    "                       os.path.join(saved_path, 'wang_sec_balanced.xlsx'))\n",
    "\n",
    "generate_balanced_file(os.path.join(root_path, 'wang.csv'),\n",
    "                       os.path.join(saved_path, 'wang_balanced.xlsx'))\n",
    "\n",
    "generate_balanced_file(os.path.join(root_path, 'uzzi.csv'),\n",
    "                       os.path.join(saved_path, 'uzzi_balanced.xlsx'))                "
   ]
  },
  {
   "cell_type": "code",
   "execution_count": 5,
   "metadata": {},
   "outputs": [],
   "source": [
    "root_path = 'base_data/overview'\n",
    "saved_path = 'robust/log-just-outlier'\n",
    "\n",
    "generate_unbalanced_file(os.path.join(root_path, 'uzzi_sec_merge_comb.csv'),\n",
    "                       os.path.join(saved_path, 'uzzi_sec_merge_comb_unbalanced.xlsx'))\n",
    "\n",
    "generate_unbalanced_file(os.path.join(root_path, 'uzzi_sec_merge_sec.csv'),\n",
    "                       os.path.join(saved_path, 'uzzi_sec_merge_sec_unbalanced.xlsx'))\n",
    "\n",
    "generate_unbalanced_file(os.path.join(root_path, 'wang_sec.csv'),\n",
    "                       os.path.join(saved_path, 'wang_sec_unbalanced.xlsx'))\n",
    "\n",
    "generate_unbalanced_file(os.path.join(root_path, 'wang.csv'),\n",
    "                       os.path.join(saved_path, 'wang_unbalanced.xlsx'))\n",
    "\n",
    "generate_unbalanced_file(os.path.join(root_path, 'uzzi.csv'),\n",
    "                       os.path.join(saved_path, 'uzzi_unbalanced.xlsx'))                "
   ]
  },
  {
   "cell_type": "markdown",
   "metadata": {},
   "source": [
    "#### 添加其他控制变量"
   ]
  },
  {
   "cell_type": "code",
   "execution_count": 10,
   "metadata": {},
   "outputs": [],
   "source": [
    "file_path = 'G://Dataset//PLOS//allofplos'\n",
    "files = os.listdir(file_path)\n",
    "random_intergers = np.random.randint(0, len(files), size=5)\n",
    "test_files = [files[i] for i in random_intergers]"
   ]
  },
  {
   "cell_type": "code",
   "execution_count": 12,
   "metadata": {},
   "outputs": [
    {
     "name": "stdout",
     "output_type": "stream",
     "text": [
      "G://Dataset//PLOS//allofplos\\journal.pone.0089109.xml\n",
      "authors: 6 affs: 3\n"
     ]
    }
   ],
   "source": [
    "# 作者数量、机构数量\n",
    "tree = etree.parse(os.path.join(file_path, files[0]))\n",
    "authors = tree.xpath(\"//contrib[@contrib-type=\\\"author\\\"]\")\n",
    "affs = tree.xpath(\"//aff[contains(@id, 'aff')]\")\n",
    "\n",
    "print(os.path.join(file_path, test_files[0]))\n",
    "print(f\"authors: {len(authors)} affs: {len(affs)}\")"
   ]
  },
  {
   "cell_type": "code",
   "execution_count": 1,
   "metadata": {},
   "outputs": [],
   "source": [
    "# 将控制变量信息添加在表格当中\n",
    "def add_control_variable(root_path, save_path, paper_file, control_variable_file):\n",
    "    with open(control_variable_file, 'r') as f:\n",
    "        doi_to_datas = json.load(f)\n",
    "\n",
    "    df = pd.read_excel(os.path.join(root_path,paper_file))\n",
    "    dois = df['Doi'].tolist()\n",
    "    authors = [doi_to_datas[doi]['author'] for doi in dois]\n",
    "    affs = [doi_to_datas[doi]['aff'] for doi in dois]\n",
    "    df['Author'] = authors\n",
    "    df['Aff'] = affs\n",
    "    df.to_excel(os.path.join(save_path, paper_file), index=False)"
   ]
  },
  {
   "cell_type": "code",
   "execution_count": 3,
   "metadata": {},
   "outputs": [],
   "source": [
    "root_path = 'gold_standard/regression'\n",
    "save_path = 'robust/log-extra-control-variable'\n",
    "control_variable_file = 'robust/log-extra-control-variable/plos_author_aff.json'\n",
    "\n",
    "add_control_variable(root_path, save_path, 'uzzi_sec_merge_comb_filtered_unbalanced.xlsx', control_variable_file)\n",
    "add_control_variable(root_path, save_path, 'uzzi_sec_merge_comb_filtered_balanced.xlsx', control_variable_file)\n",
    "add_control_variable(root_path, save_path, 'uzzi_sec_merge_sec_filtered_balanced.xlsx', control_variable_file)\n",
    "add_control_variable(root_path, save_path, 'uzzi_sec_merge_sec_filtered_unbalanced.xlsx', control_variable_file)\n",
    "add_control_variable(root_path, save_path, 'uzzi_filtered_balanced.xlsx', control_variable_file)\n",
    "add_control_variable(root_path, save_path, 'uzzi_filtered_unbalanced.xlsx', control_variable_file)"
   ]
  },
  {
   "cell_type": "code",
   "execution_count": null,
   "metadata": {},
   "outputs": [],
   "source": []
  }
 ],
 "metadata": {
  "kernelspec": {
   "display_name": "base",
   "language": "python",
   "name": "python3"
  },
  "language_info": {
   "codemirror_mode": {
    "name": "ipython",
    "version": 3
   },
   "file_extension": ".py",
   "mimetype": "text/x-python",
   "name": "python",
   "nbconvert_exporter": "python",
   "pygments_lexer": "ipython3",
   "version": "3.9.19"
  }
 },
 "nbformat": 4,
 "nbformat_minor": 2
}
