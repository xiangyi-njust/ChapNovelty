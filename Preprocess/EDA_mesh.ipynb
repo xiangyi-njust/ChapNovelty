{
 "cells": [
  {
   "cell_type": "code",
   "execution_count": 2,
   "metadata": {},
   "outputs": [
    {
     "data": {
      "text/plain": [
       "30764"
      ]
     },
     "execution_count": 2,
     "metadata": {},
     "output_type": "execute_result"
    }
   ],
   "source": [
    "from lxml import etree\n",
    "\n",
    "tree = etree.parse('../../data/mesh/desc2024/desc2024.xml')\n",
    "root = tree.getroot()\n",
    "len(root)"
   ]
  },
  {
   "cell_type": "code",
   "execution_count": 3,
   "metadata": {},
   "outputs": [],
   "source": [
    "def prettyprint(element, **kwargs):\n",
    "    xml = etree.tostring(element, pretty_print=True, **kwargs)\n",
    "    print(xml.decode(), end=\"\")\n",
    "\n",
    "def prettyparse(element):\n",
    "    result = {}\n",
    "    for child in element:\n",
    "        result[child.tag] = child\n",
    "    return result"
   ]
  },
  {
   "cell_type": "markdown",
   "metadata": {},
   "source": [
    "##### 1.1 test"
   ]
  },
  {
   "cell_type": "code",
   "execution_count": 4,
   "metadata": {},
   "outputs": [
    {
     "name": "stdout",
     "output_type": "stream",
     "text": [
      "D000001 Calcimycin\n"
     ]
    }
   ],
   "source": [
    "desc = prettyparse(root[0])\n",
    "desc_ui = desc['DescriptorUI'].text\n",
    "desc_text = desc['DescriptorName'][0].text\n",
    "conceptlist = desc['ConceptList']\n",
    "\n",
    "print(\"{} {}\".format(desc_ui, desc_text))"
   ]
  },
  {
   "cell_type": "code",
   "execution_count": 14,
   "metadata": {},
   "outputs": [
    {
     "name": "stdout",
     "output_type": "stream",
     "text": [
      "M0000001 Calcimycin\n"
     ]
    }
   ],
   "source": [
    "concept = prettyparse(conceptlist[0])\n",
    "conc_ui = concept['ConceptUI'].text\n",
    "conc_text = concept['ConceptName'][0].text\n",
    "termlist = concept['TermList']\n",
    "\n",
    "print(\"{} {}\".format(conc_ui, conc_text))"
   ]
  },
  {
   "cell_type": "code",
   "execution_count": 15,
   "metadata": {},
   "outputs": [
    {
     "data": {
      "text/plain": [
       "'Calcimycin'"
      ]
     },
     "execution_count": 15,
     "metadata": {},
     "output_type": "execute_result"
    }
   ],
   "source": [
    "items = prettyparse(termlist[0])\n",
    "term = items['String'].text\n",
    "term"
   ]
  },
  {
   "cell_type": "markdown",
   "metadata": {},
   "source": [
    "##### 1.2 batch process"
   ]
  },
  {
   "cell_type": "code",
   "execution_count": 27,
   "metadata": {},
   "outputs": [],
   "source": [
    "import json\n",
    "\n",
    "def parse_desc(descriptor):\n",
    "    mesh_dict = {}\n",
    "\n",
    "    # first step\n",
    "    desc = prettyparse(descriptor)\n",
    "    # mesh_dict['desc_ui'] = desc['DescriptorUI'].text\n",
    "    unique_ui = desc['DescriptorUI'].text\n",
    "    mesh_dict['desc_text'] = desc['DescriptorName'][0].text\n",
    "    conceptlist = desc['ConceptList']\n",
    "\n",
    "    # second step\n",
    "    try:\n",
    "        treenumberlist = desc['TreeNumberList']\n",
    "        mesh_dict['tree_number'] = []\n",
    "        for treenumber in treenumberlist:\n",
    "            tree_number = treenumber.text\n",
    "            mesh_dict['tree_number'].append(tree_number)\n",
    "    except:\n",
    "        pass\n",
    "\n",
    "    # third step\n",
    "    mesh_dict['concept'] = []\n",
    "    \n",
    "    for concept in conceptlist:\n",
    "        concept_item = {}\n",
    "        concept = prettyparse(concept)\n",
    "        concept_item['conc_ui'] = concept['ConceptUI'].text\n",
    "        concept_item['conc_text'] = concept['ConceptName'][0].text\n",
    "        # concept_item['ScopeNote'] = concept['ScopeNote'].text\n",
    "        termlist = concept['TermList']\n",
    "        \n",
    "        terms = []\n",
    "        for term in termlist:\n",
    "            term = prettyparse(term)\n",
    "            term_text = term['String'].text\n",
    "            terms.append(term_text)\n",
    "        concept_item['term'] = terms\n",
    "\n",
    "        mesh_dict['concept'].append(concept_item)\n",
    "    \n",
    "    return mesh_dict, unique_ui\n"
   ]
  },
  {
   "cell_type": "code",
   "execution_count": 28,
   "metadata": {},
   "outputs": [
    {
     "name": "stderr",
     "output_type": "stream",
     "text": [
      "100%|██████████| 30764/30764 [00:00<00:00, 34679.26it/s]\n"
     ]
    }
   ],
   "source": [
    "from tqdm import tqdm\n",
    "\n",
    "meshs_tree = {}\n",
    "for idx, desc in enumerate(tqdm(root)):\n",
    "    mesh_dict, unique_ui = parse_desc(desc)\n",
    "    meshs_tree[unique_ui] = mesh_dict\n",
    "\n",
    "meshs_tree = json.dumps(meshs_tree, indent=4)\n",
    "\n",
    "with open(\"../data/mesh/desc_simple.json\", \"w\") as f:\n",
    "    f.write(meshs_tree)"
   ]
  },
  {
   "cell_type": "markdown",
   "metadata": {},
   "source": [
    "##### 1.3 check data"
   ]
  },
  {
   "cell_type": "code",
   "execution_count": 2,
   "metadata": {},
   "outputs": [],
   "source": [
    "import json\n",
    "\n",
    "with open(\"../data/mesh/desc_simple.json\", \"r\") as f:\n",
    "    meshs_tree = json.load(f)\n",
    "\n",
    "desc_lists = list(meshs_tree.keys())\n",
    "desc_texts = [meshs_tree[desc_list]['desc_text'] for desc_list in desc_lists]\n",
    "text_to_ui = {text: ui for ui, text in zip(desc_lists, desc_texts)}"
   ]
  },
  {
   "cell_type": "code",
   "execution_count": 3,
   "metadata": {},
   "outputs": [
    {
     "name": "stdout",
     "output_type": "stream",
     "text": [
      "64457\n",
      "30762\n",
      "30764\n"
     ]
    }
   ],
   "source": [
    "# 检查与mtrees的联系\n",
    "\n",
    "tree_node_names = []\n",
    "with open(\"../data/mesh/mtrees2024.bin\", \"r\") as f:\n",
    "    for line in f.readlines():\n",
    "        tree_node_names.append(line.split(\";\")[0])\n",
    "        \n",
    "print(len(tree_node_names))\n",
    "print(len(set(tree_node_names)))\n",
    "print(len(desc_lists))"
   ]
  },
  {
   "cell_type": "code",
   "execution_count": 5,
   "metadata": {},
   "outputs": [],
   "source": [
    "\"\"\"\n",
    "desc是根节点的名称，在根节点下第一层叶子节点为concept, 再往下到term\n",
    "如果是仅匹配论文中的mesh词， 不考虑逻辑关系， 可以把各层次的词拿出来\n",
    "\"\"\"\n",
    "\n",
    "concept_texts = []\n",
    "term_texts = []\n",
    "for ui in desc_lists:\n",
    "    concepts = meshs_tree[ui]['concept']\n",
    "    for concept in concepts:\n",
    "        concept_texts.append(concept['conc_text'])\n",
    "        term_texts.extend(concept['term'])"
   ]
  },
  {
   "cell_type": "code",
   "execution_count": 6,
   "metadata": {},
   "outputs": [
    {
     "name": "stdout",
     "output_type": "stream",
     "text": [
      "61048\n",
      "61048\n",
      "263936\n",
      "263931\n"
     ]
    }
   ],
   "source": [
    "print(len(concept_texts))\n",
    "print(len(set(concept_texts)))\n",
    "\n",
    "print(len(term_texts))\n",
    "print(len(set(term_texts)))"
   ]
  },
  {
   "cell_type": "markdown",
   "metadata": {},
   "source": [
    "##### 1.4 拿到plos正文，匹配mesh词"
   ]
  },
  {
   "cell_type": "code",
   "execution_count": 6,
   "metadata": {},
   "outputs": [],
   "source": [
    "import json\n",
    "\n",
    "with open(\"../../data/mesh/desc_simple.json\", \"r\") as f:\n",
    "    meshs_tree = json.load(f)\n",
    "\n",
    "desc_lists = list(meshs_tree.keys())"
   ]
  },
  {
   "cell_type": "code",
   "execution_count": 26,
   "metadata": {},
   "outputs": [],
   "source": [
    "term_dicts = []\n",
    "concept_texts = []\n",
    "term_texts = []\n",
    "\n",
    "for ui in desc_lists:\n",
    "    concepts = meshs_tree[ui]['concept']\n",
    "    for concept in concepts:\n",
    "        concept_texts.append(concept['conc_text'])\n",
    "        term_texts.extend(concept['term'])\n",
    "        term_dict = {}\n",
    "        for term in concept['term']:\n",
    "            term_dict['term'] = {\n",
    "                'name': term,\n",
    "                'tree':{\n",
    "                    'concept': concept['conc_text'],\n",
    "                    'desc': meshs_tree[ui]['desc_text']\n",
    "                }\n",
    "            }\n",
    "            term_dicts.append(term_dict)"
   ]
  },
  {
   "cell_type": "code",
   "execution_count": 27,
   "metadata": {},
   "outputs": [],
   "source": [
    "with open(\"../../data/mesh/desc_simple_transfer.json\", \"w\") as f:\n",
    "    json.dump(term_dicts, f, ensure_ascii=False)"
   ]
  },
  {
   "cell_type": "code",
   "execution_count": 16,
   "metadata": {},
   "outputs": [],
   "source": [
    "desc_lists = set(desc_lists)\n",
    "concept_texts = set(concept_texts)\n",
    "term_texts = set(term_texts)"
   ]
  },
  {
   "cell_type": "code",
   "execution_count": 17,
   "metadata": {},
   "outputs": [],
   "source": [
    "path = \"G:\\\\Dataset\\\\PLOS\\\\allofplos\\\\journal.pbio.0000001.xml\"\n",
    "\n",
    "tree = etree.parse(path)\n",
    "root = tree.getroot()"
   ]
  },
  {
   "cell_type": "code",
   "execution_count": 20,
   "metadata": {},
   "outputs": [],
   "source": [
    "p_list = root.xpath(\"//body//p\")\n",
    "\n",
    "matches = []\n",
    "for p in p_list:\n",
    "    p_content = etree.tostring(p).decode('utf-8')\n",
    "    paper_words = set(p_content.split())\n",
    "    found_mesh_words = paper_words.intersection(term_texts)\n",
    "    if len(found_mesh_words) > 0:\n",
    "        matches.extend(found_mesh_words)"
   ]
  },
  {
   "cell_type": "markdown",
   "metadata": {},
   "source": [
    "##### 1.5 统计高频Mesh词"
   ]
  }
 ],
 "metadata": {
  "kernelspec": {
   "display_name": "base",
   "language": "python",
   "name": "python3"
  },
  "language_info": {
   "codemirror_mode": {
    "name": "ipython",
    "version": 3
   },
   "file_extension": ".py",
   "mimetype": "text/x-python",
   "name": "python",
   "nbconvert_exporter": "python",
   "pygments_lexer": "ipython3",
   "version": "3.9.19"
  }
 },
 "nbformat": 4,
 "nbformat_minor": 2
}
