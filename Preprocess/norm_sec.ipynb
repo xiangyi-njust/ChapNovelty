{
 "cells": [
  {
   "cell_type": "markdown",
   "metadata": {},
   "source": [
    "##### 先观察全集的情况"
   ]
  },
  {
   "cell_type": "code",
   "execution_count": 1,
   "metadata": {},
   "outputs": [
    {
     "data": {
      "text/plain": [
       "1624132"
      ]
     },
     "execution_count": 1,
     "metadata": {},
     "output_type": "execute_result"
    }
   ],
   "source": [
    "import json\n",
    "\n",
    "file = 'data/standard section/sec_to_name.json'\n",
    "with open(file, 'r') as f:\n",
    "    datas = json.load(f)\n",
    "\n",
    "len(datas)"
   ]
  },
  {
   "cell_type": "code",
   "execution_count": 2,
   "metadata": {},
   "outputs": [],
   "source": [
    "sec_name_dict = {}\n",
    "for data in datas:\n",
    "    if datas[data] in sec_name_dict:\n",
    "        sec_name_dict[datas[data]] += 1\n",
    "    else:\n",
    "        sec_name_dict[datas[data]] = 1\n",
    "\n",
    "sec_name_dict = sorted(sec_name_dict.items(), key=lambda x:x[1], reverse=True)\n",
    "\n",
    "json_data = json.dumps(sec_name_dict, indent=4)\n",
    "with open('data/standard section/sec_name_dict.json', 'w') as f:\n",
    "    f.write(json_data)"
   ]
  },
  {
   "cell_type": "code",
   "execution_count": 3,
   "metadata": {},
   "outputs": [
    {
     "name": "stdout",
     "output_type": "stream",
     "text": [
      "46224\n"
     ]
    }
   ],
   "source": [
    "# 去除掉数字和特殊符号\n",
    "import re\n",
    "\n",
    "sec_name_dict = {}\n",
    "for data in datas:\n",
    "    name = datas[data]\n",
    "    try:\n",
    "        name = re.sub(r'[^a-zA-Z\\s]', '', name).strip()\n",
    "        if name in sec_name_dict:\n",
    "            sec_name_dict[name] += 1\n",
    "        else:\n",
    "            sec_name_dict[name] = 1\n",
    "    except:\n",
    "        continue\n",
    "\n",
    "sec_name_dict = sorted(sec_name_dict.items(), key=lambda x:x[1], reverse=True)\n",
    "print(len(sec_name_dict))\n",
    "\n",
    "json_data = json.dumps(sec_name_dict, indent=4)\n",
    "with open('data/standard section/sec_name_dict_remove_number.json', 'w') as f:\n",
    "    f.write(json_data)"
   ]
  },
  {
   "cell_type": "code",
   "execution_count": 14,
   "metadata": {},
   "outputs": [
    {
     "name": "stdout",
     "output_type": "stream",
     "text": [
      "39105\n"
     ]
    }
   ],
   "source": [
    "standard_section_names = [\n",
    "    'introduction',\n",
    "    'result',\n",
    "    'method',\n",
    "    'discussion',\n",
    "    'conclusion',\n",
    "    'supporting information',\n",
    "    'literature review'\n",
    "]\n",
    "\n",
    "sec_name_dict = {}\n",
    "with open('data/standard section/sec_name_dict_remove_number.json', 'r') as f:\n",
    "    datas = json.load(f)\n",
    "\n",
    "for data in datas:\n",
    "    name = data[0].lower()\n",
    "    flag = False\n",
    "    for stan_name in standard_section_names:\n",
    "        if stan_name in name:\n",
    "            flag = True\n",
    "            if stan_name in sec_name_dict:\n",
    "                sec_name_dict[stan_name] += data[1]\n",
    "            else:\n",
    "                sec_name_dict[stan_name] = data[1]\n",
    "            break\n",
    "    if not flag:\n",
    "        if name in sec_name_dict:\n",
    "            sec_name_dict[name] += data[1]\n",
    "        else:\n",
    "            sec_name_dict[name] = data[1]\n",
    "\n",
    "sec_name_dict_item = sorted(sec_name_dict.items(), key=lambda x:x[1], reverse=True)\n",
    "print(len(sec_name_dict_item))\n",
    "\n",
    "json_data = json.dumps(sec_name_dict_item, indent=4)\n",
    "with open('data/standard section/sec_name_dict_simple_standard.json', 'w') as f:\n",
    "    f.write(json_data)"
   ]
  },
  {
   "cell_type": "code",
   "execution_count": 15,
   "metadata": {},
   "outputs": [
    {
     "name": "stdout",
     "output_type": "stream",
     "text": [
      "0.9424812761524309\n"
     ]
    }
   ],
   "source": [
    "num = 0\n",
    "for name in standard_section_names:\n",
    "    num += sec_name_dict[name]\n",
    "\n",
    "all_record = 1624132\n",
    "print(num/all_record)"
   ]
  },
  {
   "cell_type": "code",
   "execution_count": 16,
   "metadata": {},
   "outputs": [
    {
     "data": {
      "text/plain": [
       "{'background': 'introduction',\n",
       " 'finding': 'result',\n",
       " 'analyse': 'result',\n",
       " 'analysis': 'result',\n",
       " 'experiment': 'method',\n",
       " 'data': 'method',\n",
       " 'material': 'method',\n",
       " 'design': 'method',\n",
       " 'model': 'method',\n",
       " 'approach': 'method',\n",
       " 'implication': 'discussion',\n",
       " 'limitation': 'conclusion',\n",
       " 'future work': 'conclusion',\n",
       " 'future': 'conclusion',\n",
       " 'application': 'conclusion',\n",
       " 'related work': 'literature review',\n",
       " 'literature': 'literature review'}"
      ]
     },
     "execution_count": 16,
     "metadata": {},
     "output_type": "execute_result"
    }
   ],
   "source": [
    "stan_to_unstan = {\n",
    "    'introduction':['background',],\n",
    "    'result':['finding', 'analyse', 'analysis'],\n",
    "    'method':['experiment','data','material','design','model','approach'],\n",
    "    'discussion':['implication'],\n",
    "    'conclusion':['limitation','future work','future','application'],\n",
    "    'literature review':['related work', 'literature']\n",
    "    # 'supporting information':[]    \n",
    "}\n",
    "\n",
    "unstan_to_stan = {}\n",
    "for k, v in stan_to_unstan.items():\n",
    "    for i in v:\n",
    "        unstan_to_stan[i] = k\n",
    "\n",
    "unstan_to_stan"
   ]
  },
  {
   "cell_type": "code",
   "execution_count": 17,
   "metadata": {},
   "outputs": [
    {
     "name": "stdout",
     "output_type": "stream",
     "text": [
      "28339\n"
     ]
    }
   ],
   "source": [
    "further_sec_name_dict = {}\n",
    "with open('data/standard section/sec_name_dict_simple_standard.json', 'r') as f:\n",
    "    datas = json.load(f)\n",
    "\n",
    "for data in datas:\n",
    "    name = data[0].lower()\n",
    "    flag = False\n",
    "    for unstan_name in unstan_to_stan.keys():\n",
    "        if unstan_name in name:\n",
    "            flag = True\n",
    "            stan_name = unstan_to_stan[unstan_name]\n",
    "            if stan_name in further_sec_name_dict:\n",
    "                further_sec_name_dict[stan_name] += sec_name_dict[name]\n",
    "            else:\n",
    "                further_sec_name_dict[stan_name] = sec_name_dict[name]\n",
    "            break\n",
    "    if not flag:\n",
    "        if name in further_sec_name_dict:\n",
    "            further_sec_name_dict[name] += data[1]\n",
    "        else:\n",
    "            further_sec_name_dict[name] = data[1]\n",
    "\n",
    "sec_name_dict_item = sorted(further_sec_name_dict.items(), key=lambda x:x[1], reverse=True)\n",
    "print(len(sec_name_dict_item))\n",
    "\n",
    "json_data = json.dumps(sec_name_dict_item, indent=4)\n",
    "with open('data/standard section/sec_name_dict_further_standard.json', 'w') as f:\n",
    "    f.write(json_data)"
   ]
  },
  {
   "cell_type": "code",
   "execution_count": 18,
   "metadata": {},
   "outputs": [
    {
     "name": "stdout",
     "output_type": "stream",
     "text": [
      "0.9635817778357917\n"
     ]
    }
   ],
   "source": [
    "num = 0\n",
    "for name in standard_section_names:\n",
    "    num += further_sec_name_dict[name]\n",
    "\n",
    "all_record = 1624132\n",
    "print(num/all_record)"
   ]
  },
  {
   "cell_type": "markdown",
   "metadata": {},
   "source": [
    "##### 对原始数据进行替换"
   ]
  },
  {
   "cell_type": "code",
   "execution_count": null,
   "metadata": {},
   "outputs": [
    {
     "data": {
      "text/plain": [
       "55165"
      ]
     },
     "execution_count": 2,
     "metadata": {},
     "output_type": "execute_result"
    }
   ],
   "source": [
    "import json\n",
    "\n",
    "file = 'data/standard section/sec_to_name.json'\n",
    "with open(file, 'r') as f:\n",
    "    datas = json.load(f)\n",
    "\n",
    "raw_sections = list(set(datas.values()))"
   ]
  },
  {
   "cell_type": "code",
   "execution_count": null,
   "metadata": {},
   "outputs": [],
   "source": [
    "stan_to_unstan = {\n",
    "    'introduction':['introduction', 'background',],\n",
    "    'result':['result', 'finding', 'analyse', 'analysis'],\n",
    "    'method':['method', 'experiment','data','material','design','model','approach'],\n",
    "    'discussion':['discussion', 'implication'],\n",
    "    'conclusion':['conclusion', 'limitation','future work','future','application'],\n",
    "    'literature review':['literature review', 'related work', 'literature'],\n",
    "    'supporting information':['supporting information']    \n",
    "}\n",
    "\n",
    "unstan_to_stan = {}\n",
    "for k, v in stan_to_unstan.items():\n",
    "    for i in v:\n",
    "        unstan_to_stan[i] = k"
   ]
  },
  {
   "cell_type": "code",
   "execution_count": 12,
   "metadata": {},
   "outputs": [
    {
     "name": "stderr",
     "output_type": "stream",
     "text": [
      "100%|██████████| 55165/55165 [00:00<00:00, 193480.09it/s]\n"
     ]
    }
   ],
   "source": [
    "from tqdm import tqdm\n",
    "import re\n",
    "\n",
    "sec_raw_to_new = {}\n",
    "for section in tqdm(raw_sections):\n",
    "    raw_section = section\n",
    "    try:\n",
    "        section = re.sub(r'[^a-zA-Z\\s]', '', section).strip().lower()\n",
    "        for unstan_name in unstan_to_stan:\n",
    "            if unstan_name in section:\n",
    "                section = unstan_to_stan[unstan_name]\n",
    "                break\n",
    "    except:\n",
    "        section = 'None Value'\n",
    "    sec_raw_to_new[raw_section] = section"
   ]
  },
  {
   "cell_type": "code",
   "execution_count": 14,
   "metadata": {},
   "outputs": [],
   "source": [
    "standard_datas = {}\n",
    "for data in datas:\n",
    "    raw_section = datas[data]\n",
    "    standard_datas[data] = sec_raw_to_new[raw_section]\n",
    "\n",
    "json_data = json.dumps(standard_datas, indent=4)\n",
    "with open('data/standard section/sec_to_name_standard.json', 'w') as f:\n",
    "    f.write(json_data)"
   ]
  }
 ],
 "metadata": {
  "kernelspec": {
   "display_name": "base",
   "language": "python",
   "name": "python3"
  },
  "language_info": {
   "codemirror_mode": {
    "name": "ipython",
    "version": 3
   },
   "file_extension": ".py",
   "mimetype": "text/x-python",
   "name": "python",
   "nbconvert_exporter": "python",
   "pygments_lexer": "ipython3",
   "version": "3.9.19"
  }
 },
 "nbformat": 4,
 "nbformat_minor": 2
}
