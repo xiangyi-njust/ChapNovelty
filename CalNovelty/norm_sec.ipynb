{
 "cells": [
  {
   "cell_type": "markdown",
   "metadata": {},
   "source": [
    "某些论文含有method, introduction等章节\n",
    "\n",
    "得到仅考虑每个章节时的新颖性得分，去分析与整体的关系"
   ]
  },
  {
   "cell_type": "code",
   "execution_count": null,
   "metadata": {},
   "outputs": [],
   "source": [
    "import json\n",
    "import os\n",
    "from tqdm import tqdm\n",
    "\n",
    "with open('../../Preprocess/data/standard section/sec_to_name_standard.json', 'r') as f:\n",
    "    sec_to_name = json.load(f)"
   ]
  },
  {
   "cell_type": "code",
   "execution_count": null,
   "metadata": {},
   "outputs": [
    {
     "name": "stderr",
     "output_type": "stream",
     "text": [
      "100%|██████████| 117/117 [00:00<?, ?it/s]\n",
      "100%|██████████| 911/911 [00:00<00:00, 904809.60it/s]\n",
      "100%|██████████| 2084/2084 [00:00<00:00, 991372.30it/s]\n",
      "100%|██████████| 3746/3746 [00:00<00:00, 664265.12it/s]\n",
      "100%|██████████| 7529/7529 [00:00<00:00, 882092.59it/s]\n",
      "100%|██████████| 12864/12864 [00:00<00:00, 908235.17it/s]\n",
      "100%|██████████| 19116/19116 [00:00<00:00, 897994.26it/s]\n",
      "100%|██████████| 28878/28878 [00:00<00:00, 804318.39it/s]\n",
      "100%|██████████| 26184/26184 [00:00<00:00, 779372.07it/s]\n",
      "100%|██████████| 98532/98532 [00:00<00:00, 450157.74it/s]\n",
      "100%|██████████| 107926/107926 [00:00<00:00, 728056.87it/s]\n",
      "100%|██████████| 97229/97229 [00:00<00:00, 461728.66it/s]\n",
      "100%|██████████| 91651/91651 [00:00<00:00, 604722.09it/s]\n",
      "100%|██████████| 73995/73995 [00:00<00:00, 577325.57it/s]\n",
      "100%|██████████| 70011/70011 [00:00<00:00, 533300.31it/s]\n",
      "100%|██████████| 61640/61640 [00:00<00:00, 624033.06it/s]\n",
      "100%|██████████| 51688/51688 [00:00<00:00, 391205.59it/s]\n",
      "100%|██████████| 69030/69030 [00:00<00:00, 287745.62it/s]\n",
      "100%|██████████| 84323/84323 [00:00<00:00, 274609.39it/s]\n",
      "100%|██████████| 80896/80896 [00:00<00:00, 302169.96it/s]\n",
      "100%|██████████| 54209/54209 [00:00<00:00, 485467.15it/s]\n",
      "100%|██████████| 33978/33978 [00:00<00:00, 468154.08it/s]\n"
     ]
    }
   ],
   "source": [
    "path = 'Result/fast_uzzi_sec/reference'\n",
    "files = os.listdir(path)\n",
    "\n",
    "doi_to_sec_novelty = {}\n",
    "for file in files:\n",
    "    with open(os.path.join(path, file), 'r') as f:\n",
    "        datas = json.load(f)\n",
    "    \n",
    "    for data in tqdm(datas):\n",
    "        sec_doi = data['doi']\n",
    "        sec_name = sec_to_name[sec_doi]\n",
    "        pos = sec_doi.find('_')\n",
    "        doi = sec_doi[:pos]\n",
    "        novelty = data['reference_uzzi']['score']['novelty']\n",
    "        if doi not in doi_to_sec_novelty:\n",
    "            doi_to_sec_novelty[doi] = {}\n",
    "        doi_to_sec_novelty[doi].update({\n",
    "            sec_name:novelty\n",
    "        })\n",
    "\n",
    "json_data = json.dumps(doi_to_sec_novelty, indent=4)\n",
    "with open('../../Analyse/uzzi_novelty_sec.json', 'w') as f:\n",
    "    f.write(json_data)"
   ]
  },
  {
   "cell_type": "code",
   "execution_count": null,
   "metadata": {},
   "outputs": [],
   "source": [
    "path = 'Result/fast_wang_sec/reference'\n",
    "files = os.listdir(path)\n",
    "\n",
    "doi_to_sec_novelty = {}\n",
    "for file in files:\n",
    "    with open(os.path.join(path, file), 'r') as f:\n",
    "        datas = json.load(f)\n",
    "    \n",
    "    for data in tqdm(datas):\n",
    "        sec_doi = data['doi']\n",
    "        sec_name = sec_to_name[sec_doi]\n",
    "        pos = sec_doi.find('_')\n",
    "        doi = sec_doi[:pos]\n",
    "        novelty = data['reference_uzzi']['score']['novelty']\n",
    "        if doi not in doi_to_sec_novelty:\n",
    "            doi_to_sec_novelty[doi] = {}\n",
    "        doi_to_sec_novelty[doi].update({\n",
    "            sec_name:novelty\n",
    "        })\n",
    "\n",
    "json_data = json.dumps(doi_to_sec_novelty, indent=4)\n",
    "with open('../../Analyse/uzzi_novelty_sec.json', 'w') as f:\n",
    "    f.write(json_data)"
   ]
  }
 ],
 "metadata": {
  "kernelspec": {
   "display_name": "base",
   "language": "python",
   "name": "python3"
  },
  "language_info": {
   "codemirror_mode": {
    "name": "ipython",
    "version": 3
   },
   "file_extension": ".py",
   "mimetype": "text/x-python",
   "name": "python",
   "nbconvert_exporter": "python",
   "pygments_lexer": "ipython3",
   "version": "3.9.19"
  }
 },
 "nbformat": 4,
 "nbformat_minor": 2
}
